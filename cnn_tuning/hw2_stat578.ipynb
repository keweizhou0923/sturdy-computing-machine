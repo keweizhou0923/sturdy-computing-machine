{
  "nbformat": 4,
  "nbformat_minor": 0,
  "metadata": {
    "colab": {
      "name": "hw2_stat578.ipynb",
      "version": "0.3.2",
      "provenance": [],
      "collapsed_sections": []
    },
    "kernelspec": {
      "name": "python3",
      "display_name": "Python 3"
    },
    "accelerator": "GPU"
  },
  "cells": [
    {
      "metadata": {
        "id": "7iBIEU4e3I6B",
        "colab_type": "text"
      },
      "cell_type": "markdown",
      "source": [
        "# hw2\n"
      ]
    },
    {
      "metadata": {
        "id": "UjWHFDYT3I6C",
        "colab_type": "text"
      },
      "cell_type": "markdown",
      "source": [
        "#### 1. Choose one of the following datasets or other datasets you like. Load the images into  Python, split the images into training, testing and validation set with a reasonable ratio.\n",
        "Report: (1) the number of samples in the training, testing and validation set (2) the\n",
        "number of categories (3) the size of the image (width, height, number of channels).\n",
        "Fashion MNIST: an mnist-like dataset of fashion images\n",
        "CIFAR-10: a collection of colored images of different classes.\n",
        "Hint: The above two datasets can be loaded through keras.datasets.fashion_mnist\n",
        "and keras.datasets.cifar10"
      ]
    },
    {
      "metadata": {
        "id": "bsdaH0Hz3I6D",
        "colab_type": "code",
        "outputId": "98e92508-1f1c-4e49-cb8d-e6db8b7db549",
        "colab": {
          "base_uri": "https://localhost:8080/",
          "height": 34
        }
      },
      "cell_type": "code",
      "source": [
        "\n",
        "!pip install  keras==2.1.6\n",
        "import keras\n",
        "keras.__version__\n",
        "import numpy as np\n",
        "import matplotlib.pyplot as plt\n",
        "from keras.preprocessing.image import ImageDataGenerator\n",
        "from keras.models import Sequential\n",
        "from keras.layers import Dense, Dropout, Activation, Flatten\n",
        "from keras.layers import Conv2D, MaxPooling2D\n",
        "import os"
      ],
      "execution_count": 3,
      "outputs": [
        {
          "output_type": "stream",
          "text": [
            "Using TensorFlow backend.\n"
          ],
          "name": "stderr"
        }
      ]
    },
    {
      "metadata": {
        "id": "k86Ij0_r3I6G",
        "colab_type": "code",
        "outputId": "8ef7b5f1-450c-423c-c79c-9fa84691a068",
        "colab": {
          "base_uri": "https://localhost:8080/",
          "height": 50
        }
      },
      "cell_type": "code",
      "source": [
        "from keras.datasets import cifar10\n",
        "\n",
        "(x_train, y_train), (x_test, y_test) = cifar10.load_data()\n",
        "x_train = x_train/255\n",
        "x_test = x_test/255\n",
        "num_classes = len(np.unique(y_train))\n",
        "\n",
        "y_train = keras.utils.to_categorical(y_train, num_classes)\n",
        "y_test = keras.utils.to_categorical(y_test, num_classes)"
      ],
      "execution_count": 4,
      "outputs": [
        {
          "output_type": "stream",
          "text": [
            "Downloading data from https://www.cs.toronto.edu/~kriz/cifar-10-python.tar.gz\n",
            "170500096/170498071 [==============================] - 72s 0us/step\n"
          ],
          "name": "stdout"
        }
      ]
    },
    {
      "metadata": {
        "id": "pqI-Q9Wq3I6N",
        "colab_type": "code",
        "outputId": "fc7f3749-dfba-49d0-fb66-3f487f8207cb",
        "colab": {
          "base_uri": "https://localhost:8080/",
          "height": 34
        }
      },
      "cell_type": "code",
      "source": [
        "x_train.shape"
      ],
      "execution_count": 5,
      "outputs": [
        {
          "output_type": "execute_result",
          "data": {
            "text/plain": [
              "(50000, 32, 32, 3)"
            ]
          },
          "metadata": {
            "tags": []
          },
          "execution_count": 5
        }
      ]
    },
    {
      "metadata": {
        "id": "F8m20KRI3I6Q",
        "colab_type": "code",
        "outputId": "b63e6e57-8f67-4d93-aaf4-a64ff1e8e8ae",
        "colab": {
          "base_uri": "https://localhost:8080/",
          "height": 34
        }
      },
      "cell_type": "code",
      "source": [
        "x_test.shape"
      ],
      "execution_count": 6,
      "outputs": [
        {
          "output_type": "execute_result",
          "data": {
            "text/plain": [
              "(10000, 32, 32, 3)"
            ]
          },
          "metadata": {
            "tags": []
          },
          "execution_count": 6
        }
      ]
    },
    {
      "metadata": {
        "id": "rWBHgpNb3I6U",
        "colab_type": "code",
        "outputId": "4e8096bd-c745-4b60-b284-23a3e6d2e92c",
        "colab": {
          "base_uri": "https://localhost:8080/",
          "height": 34
        }
      },
      "cell_type": "code",
      "source": [
        "num_classes"
      ],
      "execution_count": 7,
      "outputs": [
        {
          "output_type": "execute_result",
          "data": {
            "text/plain": [
              "10"
            ]
          },
          "metadata": {
            "tags": []
          },
          "execution_count": 7
        }
      ]
    },
    {
      "metadata": {
        "id": "vSBebjZa3I6W",
        "colab_type": "text"
      },
      "cell_type": "markdown",
      "source": [
        "__(1) The number of samples in the training, testing and validation set__ is 40000,10000,10000 after split.  \n",
        "__(2) the number of categories:__10  \n",
        "__(3) the size of the image (width, height, number of channels):__ width= 28, height = 28. number of channels = 3. "
      ]
    },
    {
      "metadata": {
        "id": "jilK0P1x3I6X",
        "colab_type": "code",
        "colab": {}
      },
      "cell_type": "code",
      "source": [
        "from sklearn.model_selection import train_test_split\n",
        "x_train, x_val, y_train, y_val = train_test_split(x_train, y_train, test_size=0.2)\n"
      ],
      "execution_count": 0,
      "outputs": []
    },
    {
      "metadata": {
        "id": "NgKNh5qn3I6a",
        "colab_type": "code",
        "outputId": "c1dbb0ed-a24b-48a3-f255-784df5d49dd8",
        "colab": {
          "base_uri": "https://localhost:8080/",
          "height": 34
        }
      },
      "cell_type": "code",
      "source": [
        "x_train.shape"
      ],
      "execution_count": 9,
      "outputs": [
        {
          "output_type": "execute_result",
          "data": {
            "text/plain": [
              "(40000, 32, 32, 3)"
            ]
          },
          "metadata": {
            "tags": []
          },
          "execution_count": 9
        }
      ]
    },
    {
      "metadata": {
        "id": "gCjbIDVt3I6d",
        "colab_type": "code",
        "outputId": "6e37c155-e57a-4370-d5fe-2513c33c9f7e",
        "colab": {
          "base_uri": "https://localhost:8080/",
          "height": 34
        }
      },
      "cell_type": "code",
      "source": [
        "x_train[:1][0].shape\n"
      ],
      "execution_count": 10,
      "outputs": [
        {
          "output_type": "execute_result",
          "data": {
            "text/plain": [
              "(32, 32, 3)"
            ]
          },
          "metadata": {
            "tags": []
          },
          "execution_count": 10
        }
      ]
    },
    {
      "metadata": {
        "id": "qTkdUqd13I6i",
        "colab_type": "text"
      },
      "cell_type": "markdown",
      "source": [
        "#### 2. Show 9 sample images from your training set."
      ]
    },
    {
      "metadata": {
        "id": "cyisQBAa3I6j",
        "colab_type": "code",
        "outputId": "84d3fc98-6c44-4b73-fb00-e3ea271fd2a6",
        "colab": {
          "base_uri": "https://localhost:8080/",
          "height": 162
        }
      },
      "cell_type": "code",
      "source": [
        "plt.figure(figsize=(15,1.5))\n",
        "\n",
        "for i in range(9):\n",
        "    plt.subplot(1,9,i+1)  \n",
        "\n",
        "    plt.imshow(x_train[i])\n",
        "    plt.title(i)\n",
        "    plt.axis(\"off\")\n",
        "    \n"
      ],
      "execution_count": 11,
      "outputs": [
        {
          "output_type": "display_data",
          "data": {
            "image/png": "[encoded data removed]",
            "text/plain": [
              "<Figure size 1080x108 with 9 Axes>"
            ]
          },
          "metadata": {
            "tags": []
          }
        }
      ]
    },
    {
      "metadata": {
        "id": "CZK3WFK33I6n",
        "colab_type": "text"
      },
      "cell_type": "markdown",
      "source": [
        "#### 3. Train a CNN with 2 convolutional layer and 1 fully-connected layer.\n",
        "Report the structure of the CNN:\n",
        "(1) filter size and filter number of each convolutional layer\n",
        "(2) neuron number of the fully-connected layer\n",
        "(3) optimization algorithm and its learning rate and training epochs.\n",
        "Report the accuracy on the test set."
      ]
    },
    {
      "metadata": {
        "id": "lRC8BvhJ5dHJ",
        "colab_type": "code",
        "outputId": "7d6679e1-0d85-409b-d61a-c8399004b29c",
        "colab": {
          "base_uri": "https://localhost:8080/",
          "height": 34
        }
      },
      "cell_type": "code",
      "source": [
        "x_test.shape"
      ],
      "execution_count": 12,
      "outputs": [
        {
          "output_type": "execute_result",
          "data": {
            "text/plain": [
              "(10000, 32, 32, 3)"
            ]
          },
          "metadata": {
            "tags": []
          },
          "execution_count": 12
        }
      ]
    },
    {
      "metadata": {
        "id": "4zAImFFM3I6n",
        "colab_type": "code",
        "outputId": "f4b6c7d9-91b7-44fb-c9a2-838237c4d7f5",
        "colab": {
          "base_uri": "https://localhost:8080/",
          "height": 322
        }
      },
      "cell_type": "code",
      "source": [
        "\n",
        "\n",
        "batch_size = 32\n",
        "num_classes = 10\n",
        "epochs = 5\n",
        "\n",
        "model = Sequential()\n",
        "model.add(Conv2D(128, (3, 3), padding='same',\n",
        "                 input_shape=x_train.shape[1:]))\n",
        "model.add(Activation('relu'))\n",
        "model.add(Conv2D(64, (3, 3)))\n",
        "model.add(Activation('relu'))\n",
        "model.add(Flatten())\n",
        "model.add(Dense(128))\n",
        "model.add(Activation('relu'))\n",
        "model.add(Dense(num_classes))\n",
        "model.add(Activation('softmax'))\n",
        "\n",
        "# initiate RMSprop optimizer\n",
        "opt = keras.optimizers.rmsprop(lr=0.0001, decay=1e-6)\n",
        "\n",
        "# Let's train the model using RMSprop\n",
        "model.compile(loss='categorical_crossentropy',\n",
        "              optimizer=opt,\n",
        "              metrics=['accuracy'])\n",
        "\n",
        "history = model.fit(x_train, y_train,\n",
        "              batch_size=batch_size,\n",
        "              epochs=epochs,\n",
        "              validation_data=(x_val, y_val),\n",
        "              shuffle=True)"
      ],
      "execution_count": 13,
      "outputs": [
        {
          "output_type": "stream",
          "text": [
            "WARNING:tensorflow:From /usr/local/lib/python3.6/dist-packages/tensorflow/python/framework/op_def_library.py:263: colocate_with (from tensorflow.python.framework.ops) is deprecated and will be removed in a future version.\n",
            "Instructions for updating:\n",
            "Colocations handled automatically by placer.\n",
            "WARNING:tensorflow:From /usr/local/lib/python3.6/dist-packages/tensorflow/python/ops/math_ops.py:3066: to_int32 (from tensorflow.python.ops.math_ops) is deprecated and will be removed in a future version.\n",
            "Instructions for updating:\n",
            "Use tf.cast instead.\n",
            "Train on 40000 samples, validate on 10000 samples\n",
            "Epoch 1/5\n",
            "40000/40000 [==============================] - 30s 760us/step - loss: 1.5884 - acc: 0.4330 - val_loss: 1.3532 - val_acc: 0.5167\n",
            "Epoch 2/5\n",
            "40000/40000 [==============================] - 29s 716us/step - loss: 1.2481 - acc: 0.5617 - val_loss: 1.2618 - val_acc: 0.5514\n",
            "Epoch 3/5\n",
            "40000/40000 [==============================] - 29s 715us/step - loss: 1.0947 - acc: 0.6176 - val_loss: 1.1320 - val_acc: 0.6040\n",
            "Epoch 4/5\n",
            "40000/40000 [==============================] - 29s 715us/step - loss: 0.9818 - acc: 0.6599 - val_loss: 1.0869 - val_acc: 0.6240\n",
            "Epoch 5/5\n",
            "40000/40000 [==============================] - 29s 715us/step - loss: 0.8836 - acc: 0.6958 - val_loss: 1.0500 - val_acc: 0.6355\n"
          ],
          "name": "stdout"
        }
      ]
    },
    {
      "metadata": {
        "id": "BOEZDHFF3I6q",
        "colab_type": "code",
        "outputId": "b85d54ae-3c8b-4a49-b639-97b23c98dede",
        "colab": {
          "base_uri": "https://localhost:8080/",
          "height": 67
        }
      },
      "cell_type": "code",
      "source": [
        "scores = model.evaluate(x_test, y_test, verbose=1)\n",
        "print('Test loss:', scores[0])\n",
        "print('Test accuracy:', scores[1])"
      ],
      "execution_count": 14,
      "outputs": [
        {
          "output_type": "stream",
          "text": [
            "10000/10000 [==============================] - 2s 230us/step\n",
            "Test loss: 1.053884597015381\n",
            "Test accuracy: 0.6321\n"
          ],
          "name": "stdout"
        }
      ]
    },
    {
      "metadata": {
        "id": "dkwWnMOUxfVl",
        "colab_type": "code",
        "colab": {
          "base_uri": "https://localhost:8080/",
          "height": 34
        },
        "outputId": "5c1bf0bb-876a-404e-ee7c-61c74ec1bc96"
      },
      "cell_type": "code",
      "source": [
        "# list all data in history\n",
        "print(history.history.keys())"
      ],
      "execution_count": 15,
      "outputs": [
        {
          "output_type": "stream",
          "text": [
            "dict_keys(['val_loss', 'val_acc', 'loss', 'acc'])\n"
          ],
          "name": "stdout"
        }
      ]
    },
    {
      "metadata": {
        "id": "TL6D5o_gxhcx",
        "colab_type": "code",
        "colab": {
          "base_uri": "https://localhost:8080/",
          "height": 735
        },
        "outputId": "a88d08d4-f243-4f0c-c68f-d20b7337231c"
      },
      "cell_type": "code",
      "source": [
        "\n",
        "# summarize history for accuracy\n",
        "plt.plot(history.history['acc'])\n",
        "plt.plot(history.history['val_acc'])\n",
        "plt.title('model accuracy')\n",
        "plt.ylabel('accuracy')\n",
        "plt.xlabel('epoch')\n",
        "plt.legend(['train', 'val'], loc='upper left')\n",
        "plt.show()\n",
        "# summarize history for loss\n",
        "plt.plot(history.history['loss'])\n",
        "plt.plot(history.history['val_loss'])\n",
        "plt.title('model loss')\n",
        "plt.ylabel('loss')\n",
        "plt.xlabel('epoch')\n",
        "plt.legend(['train', 'val'], loc='upper left')\n",
        "plt.show()"
      ],
      "execution_count": 16,
      "outputs": [
        {
          "output_type": "display_data",
          "data": {
            "image/png": "[encoded data removed]",
            "text/plain": [
              "<Figure size 576x396 with 1 Axes>"
            ]
          },
          "metadata": {
            "tags": []
          }
        },
        {
          "output_type": "display_data",
          "data": {
            "image/png": "[encoded data removed]",
            "text/plain": [
              "<Figure size 576x396 with 1 Axes>"
            ]
          },
          "metadata": {
            "tags": []
          }
        }
      ]
    },
    {
      "metadata": {
        "id": "8FIkvB01C1gV",
        "colab_type": "code",
        "colab": {
          "base_uri": "https://localhost:8080/",
          "height": 11382
        },
        "outputId": "4a5c0754-eb5d-4030-bc61-df67dd3b33d3"
      },
      "cell_type": "code",
      "source": [
        "\n",
        "import keras\n",
        "from keras.datasets import mnist\n",
        "from keras.models import Sequential, load_model\n",
        "from keras.layers import Dense, Flatten\n",
        "from keras.layers import InputLayer, Conv2D, MaxPooling2D\n",
        "from keras.callbacks import TensorBoard\n",
        "from keras import backend as K\n",
        "from keras.optimizers import Adam\n",
        "import os\n",
        "\n",
        "\n",
        "from skopt import gp_minimize, dump, load\n",
        "from skopt.space import Real, Integer\n",
        "from skopt.plots import plot_convergence\n",
        "from skopt.utils import use_named_args\n",
        "\n",
        "\n",
        "batch_size = 128\n",
        "num_classes = 10\n",
        "epochs = 25 # You can try more epochs\n",
        "kernel_size=3\n",
        "# input image dimensions\n",
        "img_rows, img_cols = 28, 28\n",
        "\n",
        "# the data, split between train and test sets\n",
        "(X_train, y_train), (X_test, y_test) = mnist.load_data()\n",
        "\n",
        "\n",
        "# different backend saves data in diffferent format\n",
        "if K.image_data_format() == 'channels_first':\n",
        "    X_train = X_train.reshape(X_train.shape[0], 1, img_rows, img_cols)\n",
        "    X_test = X_test.reshape(X_test.shape[0], 1, img_rows, img_cols)\n",
        "else: # for Tensorflow, the format is [N_image, image_row, image_col, channel]\n",
        "    X_train = X_train.reshape(X_train.shape[0], img_rows, img_cols, 1)\n",
        "    X_test = X_test.reshape(X_test.shape[0], img_rows, img_cols, 1)\n",
        "\n",
        "\n",
        "X_train = X_train.astype('float32')\n",
        "X_test = X_test.astype('float32')\n",
        "# normalize the pixels to [0, 1]\n",
        "X_train /= 255\n",
        "X_test /= 255\n",
        "\n",
        "# subset 5000 samples from X_train as validation_set\n",
        "X_train, X_val = X_train[0:55000,:,:,:], X_train[-5000:,:,:,:]\n",
        "y_train, y_val = y_train[0:55000], y_train[-5000:]\n",
        "\n",
        "print('X_train shape:', X_train.shape)\n",
        "print(X_train.shape[0], 'train samples')\n",
        "print(X_test.shape[0], 'test samples')\n",
        "print(X_val.shape[0], 'validation samples')\n",
        "\n",
        "\n",
        "# convert class vectors to one-hot class matrices\n",
        "y_train_vec = y_train\n",
        "y_test_vec = y_test\n",
        "y_val_vec = y_val\n",
        "y_train = keras.utils.to_categorical(y_train, num_classes)\n",
        "y_test = keras.utils.to_categorical(y_test, num_classes)\n",
        "y_val = keras.utils.to_categorical(y_val, num_classes)\n",
        "\n",
        "def create_model(learning_rate, num_filter, num_conv_layers):\n",
        "    # Start construction of a Keras Sequential model.\n",
        "    model = Sequential()\n",
        "    model.add(InputLayer(input_shape=(img_rows, img_cols, 1, )))\n",
        "    model.add(Conv2D(32, kernel_size=int(kernel_size),\n",
        "             input_shape=(img_rows, img_cols, 1, ),\n",
        "             activation='relu',\n",
        "             padding='same',\n",
        "             name = 'layer_conv_0'))\n",
        "    for i in range(1,num_conv_layers):\n",
        "        # Name of the layer. This is not really necessary\n",
        "        # because Keras should give them unique names.\n",
        "        name = 'layer_conv_{0}'.format(i+1)\n",
        "    \n",
        "        # Add the dense / fully-connected layer to the model.\n",
        "        # This has two hyper-parameters we want to optimize:\n",
        "        # The number of nodes and the activation function.\n",
        "        model.add(Conv2D(num_filter, kernel_size=int(kernel_size),\n",
        "             input_shape=(img_rows, img_cols, 1, ),\n",
        "             activation='relu',\n",
        "             padding='same',\n",
        "             name = name))\n",
        "        model.add(MaxPooling2D(pool_size=2,padding='same', strides=2))\n",
        " \n",
        "    model.add(Flatten())\n",
        "    model.add(Dense(128,\n",
        "                activation='relu',\n",
        "                name=\"layer_dense_0\"))\n",
        "    model.add(Dense(64,\n",
        "                    activation='relu',\n",
        "                    name=\"layer_dense_1\"))\n",
        "    \n",
        "    model.add(Dense(num_classes, activation='softmax'))\n",
        "\n",
        "    model.compile(loss=keras.losses.categorical_crossentropy,\n",
        "              optimizer=Adam(learning_rate),\n",
        "              metrics=['accuracy'])    \n",
        "    return model\n",
        "\n",
        "def log_dir_name(learning_rate,\n",
        "                 num_filter,\n",
        "                 num_conv_layers):\n",
        "    # The dir-name for the TensorBoard log-dir.\n",
        "    s = os.path.join(log_path, \"lr_{0:.0e}_kernel_{1}_dense_{2}/\")\n",
        "    \n",
        "    log_dir = s.format(learning_rate,\n",
        "                       num_filter,\n",
        "                       num_conv_layers)\n",
        "    return log_dir\n",
        "\n",
        "dim_learning_rate = Real(low=1e-4, high=1e-2, prior='log-uniform',\n",
        "                             name='learning_rate')\n",
        "dim_num_filter = Integer(low=32, high=128, name='num_filter')\n",
        "dim_num_conv_layers = Integer(low=1, high=10, name='num_conv_layers')\n",
        "\n",
        "dimensions = [dim_learning_rate, dim_num_filter, dim_num_conv_layers]\n",
        "\n",
        "\n",
        "log_path = './mnist_skopt_log'\n",
        "if not os.path.exists(log_path):\n",
        "    os.makedirs(log_path)\n",
        "result_path = './mnist_skopt_result'\n",
        "if not os.path.exists(result_path):\n",
        "    os.makedirs(result_path)\n",
        "path_best_model = os.path.join(result_path+'best_model.keras')\n",
        "best_accuracy = 0.0\n",
        "\n",
        "@use_named_args(dimensions=dimensions)\n",
        "def fitness(learning_rate, num_filter, num_conv_layers):\n",
        "    # Print the hyper-parameters.\n",
        "    print('learning rate: {0:.1e}'.format(learning_rate))\n",
        "    print('num_filter:', num_filter)\n",
        "    print('num_conv_layers:', num_conv_layers)\n",
        "    print()\n",
        "    # Create the neural network with these hyper-parameters.\n",
        "    model = create_model(learning_rate, num_filter,  num_conv_layers)\n",
        "     \n",
        "    # Dir-name for the TensorBoard log-files.\n",
        "    log_dir = log_dir_name(learning_rate, num_filter,  num_conv_layers)\n",
        "     \n",
        "    # Create a callback-function for Keras which will be\n",
        "    # run after each epoch has ended during training.\n",
        "    # This saves the log-files for TensorBoard.\n",
        "    # Note that there are complications when histogram_freq=1.\n",
        "    # It might give strange errors and it also does not properly\n",
        "    # support Keras data-generators for the validation-set.\n",
        "    callback_log = TensorBoard(\n",
        "        log_dir=log_dir,\n",
        "        histogram_freq=0,\n",
        "        batch_size=32,\n",
        "        write_graph=True,\n",
        "        write_grads=False,\n",
        "        write_images=False)\n",
        "    \n",
        "    # Use Keras to train the model.\n",
        "    history = model.fit(X_train, y_train,\n",
        "                        batch_size=batch_size,\n",
        "                        epochs=epochs,\n",
        "                        verbose=1,\n",
        "                        validation_data=(X_val, y_val),\n",
        "                        callbacks=[callback_log])\n",
        "    # Get the classification accuracy on the validation-set\n",
        "    # after the last training-epoch.\n",
        "    accuracy = history.history['val_acc'][-1]\n",
        "\n",
        "    # Print the classification accuracy.\n",
        "    print()\n",
        "    print(\"Accuracy: {0:.2%}\".format(accuracy))\n",
        "    print()\n",
        "    \n",
        "    # Save the model if it improves on the best-found performance.\n",
        "    # We use the global keyword so we update the variable outside\n",
        "    # of this function.\n",
        "    global best_accuracy\n",
        "\n",
        "    # If the classification accuracy of the saved model is improved ...\n",
        "    if accuracy > best_accuracy:\n",
        "        # Save the new model to harddisk.\n",
        "        model.save(path_best_model)\n",
        "        \n",
        "        # Update the classification accuracy.\n",
        "        best_accuracy = accuracy\n",
        "\n",
        "    # Delete the Keras model with these hyper-parameters from memory.\n",
        "    del model\n",
        "    \n",
        "    # Clear the Keras session, otherwise it will keep adding new\n",
        "    # models to the same TensorFlow graph each time we create\n",
        "    # a model with a different set of hyper-parameters.\n",
        "    K.clear_session()\n",
        "    \n",
        "    # NOTE: Scikit-optimize does minimization so it tries to\n",
        "    # find a set of hyper-parameters with the LOWEST fitness-value.\n",
        "    # Because we are interested in the HIGHEST classification\n",
        "    # accuracy, we need to negate this number so it can be minimized.\n",
        "    return -accuracy\n",
        "\n",
        "# initial hyperparameters for search\n",
        "default_parameters = [1e-4, 64, 1]\n",
        "\n",
        "# search by Gaussian Process Optimization\n",
        "search_result = gp_minimize(func=fitness,\n",
        "                            dimensions=dimensions,\n",
        "                            acq_func='EI', # Expected Improvement.\n",
        "                            n_calls=11, # min n_calls=11\n",
        "                            x0=default_parameters)\n",
        "\n",
        "# save the search result for future use\n",
        "dump(search_result,result_path+'search_result.gz', compress=9)\n",
        "# if you need to reload the optimization history, use the following command\n",
        "#res_load = load(result_path+'search_result.gz')\n",
        "\n",
        "# check the optimization result\n",
        "plot_convergence(search_result)\n",
        "\n",
        "# check the optimized solution\n",
        "search_result.x\n",
        "\n",
        "# Evaluate the performance of the best model on the test set\n",
        "model_best = load_model(path_best_model)\n",
        "score = model_best.evaluate(X_test, y_test, verbose=0)\n",
        "print('Test loss:', score[0])\n",
        "print('Test accuracy:', score[1])\n",
        "\n",
        "# check the optimization history by listing the combination of all x and \n",
        "# its corresponding funtion value\n",
        "sorted(zip(search_result.func_vals, search_result.x_iters))\n",
        "\n"
      ],
      "execution_count": 19,
      "outputs": [
        {
          "output_type": "stream",
          "text": [
            "X_train shape: (55000, 28, 28, 1)\n",
            "55000 train samples\n",
            "10000 test samples\n",
            "5000 validation samples\n",
            "learning rate: 1.0e-04\n",
            "num_filter: 64\n",
            "num_conv_layers: 1\n",
            "\n",
            "Train on 55000 samples, validate on 5000 samples\n",
            "Epoch 1/25\n",
            "55000/55000 [==============================] - 6s 101us/step - loss: 0.4745 - acc: 0.8859 - val_loss: 0.1712 - val_acc: 0.9560\n",
            "Epoch 2/25\n",
            "55000/55000 [==============================] - 5s 95us/step - loss: 0.1815 - acc: 0.9495 - val_loss: 0.1214 - val_acc: 0.9692\n",
            "Epoch 3/25\n",
            "55000/55000 [==============================] - 5s 95us/step - loss: 0.1250 - acc: 0.9652 - val_loss: 0.0913 - val_acc: 0.9746\n",
            "Epoch 4/25\n",
            "55000/55000 [==============================] - 5s 96us/step - loss: 0.0930 - acc: 0.9743 - val_loss: 0.0734 - val_acc: 0.9810\n",
            "Epoch 5/25\n",
            "55000/55000 [==============================] - 5s 96us/step - loss: 0.0732 - acc: 0.9801 - val_loss: 0.0692 - val_acc: 0.9838\n",
            "Epoch 6/25\n",
            "55000/55000 [==============================] - 5s 95us/step - loss: 0.0591 - acc: 0.9845 - val_loss: 0.0604 - val_acc: 0.9840\n",
            "Epoch 7/25\n",
            "55000/55000 [==============================] - 5s 95us/step - loss: 0.0498 - acc: 0.9860 - val_loss: 0.0587 - val_acc: 0.9848\n",
            "Epoch 8/25\n",
            "55000/55000 [==============================] - 5s 95us/step - loss: 0.0424 - acc: 0.9885 - val_loss: 0.0555 - val_acc: 0.9854\n",
            "Epoch 9/25\n",
            "55000/55000 [==============================] - 5s 95us/step - loss: 0.0355 - acc: 0.9907 - val_loss: 0.0539 - val_acc: 0.9862\n",
            "Epoch 10/25\n",
            "55000/55000 [==============================] - 5s 95us/step - loss: 0.0306 - acc: 0.9918 - val_loss: 0.0566 - val_acc: 0.9850\n",
            "Epoch 11/25\n",
            "55000/55000 [==============================] - 5s 95us/step - loss: 0.0260 - acc: 0.9934 - val_loss: 0.0507 - val_acc: 0.9872\n",
            "Epoch 12/25\n",
            "55000/55000 [==============================] - 5s 95us/step - loss: 0.0224 - acc: 0.9946 - val_loss: 0.0542 - val_acc: 0.9854\n",
            "Epoch 13/25\n",
            "55000/55000 [==============================] - 5s 96us/step - loss: 0.0196 - acc: 0.9952 - val_loss: 0.0504 - val_acc: 0.9884\n",
            "Epoch 14/25\n",
            "55000/55000 [==============================] - 5s 95us/step - loss: 0.0170 - acc: 0.9960 - val_loss: 0.0596 - val_acc: 0.9850\n",
            "Epoch 15/25\n",
            "55000/55000 [==============================] - 5s 95us/step - loss: 0.0144 - acc: 0.9969 - val_loss: 0.0512 - val_acc: 0.9870\n",
            "Epoch 16/25\n",
            "55000/55000 [==============================] - 5s 95us/step - loss: 0.0125 - acc: 0.9973 - val_loss: 0.0492 - val_acc: 0.9864\n",
            "Epoch 17/25\n",
            "55000/55000 [==============================] - 5s 95us/step - loss: 0.0108 - acc: 0.9978 - val_loss: 0.0527 - val_acc: 0.9868\n",
            "Epoch 18/25\n",
            "55000/55000 [==============================] - 5s 95us/step - loss: 0.0098 - acc: 0.9980 - val_loss: 0.0538 - val_acc: 0.9862\n",
            "Epoch 19/25\n",
            "55000/55000 [==============================] - 5s 95us/step - loss: 0.0079 - acc: 0.9986 - val_loss: 0.0562 - val_acc: 0.9864\n",
            "Epoch 20/25\n",
            "55000/55000 [==============================] - 5s 95us/step - loss: 0.0069 - acc: 0.9989 - val_loss: 0.0554 - val_acc: 0.9872\n",
            "Epoch 21/25\n",
            "55000/55000 [==============================] - 5s 95us/step - loss: 0.0060 - acc: 0.9992 - val_loss: 0.0582 - val_acc: 0.9872\n",
            "Epoch 22/25\n",
            "55000/55000 [==============================] - 5s 95us/step - loss: 0.0052 - acc: 0.9994 - val_loss: 0.0561 - val_acc: 0.9870\n",
            "Epoch 23/25\n",
            "55000/55000 [==============================] - 5s 96us/step - loss: 0.0046 - acc: 0.9994 - val_loss: 0.0592 - val_acc: 0.9872\n",
            "Epoch 24/25\n",
            "55000/55000 [==============================] - 5s 95us/step - loss: 0.0037 - acc: 0.9996 - val_loss: 0.0638 - val_acc: 0.9850\n",
            "Epoch 25/25\n",
            "55000/55000 [==============================] - 5s 95us/step - loss: 0.0037 - acc: 0.9996 - val_loss: 0.0649 - val_acc: 0.9864\n",
            "\n",
            "Accuracy: 98.64%\n",
            "\n",
            "learning rate: 1.5e-03\n",
            "num_filter: 84\n",
            "num_conv_layers: 5\n",
            "\n",
            "Train on 55000 samples, validate on 5000 samples\n",
            "Epoch 1/25\n",
            "55000/55000 [==============================] - 15s 271us/step - loss: 0.2232 - acc: 0.9291 - val_loss: 0.0492 - val_acc: 0.9868\n",
            "Epoch 2/25\n",
            "55000/55000 [==============================] - 14s 261us/step - loss: 0.0484 - acc: 0.9854 - val_loss: 0.0470 - val_acc: 0.9868\n",
            "Epoch 3/25\n",
            "55000/55000 [==============================] - 14s 261us/step - loss: 0.0335 - acc: 0.9895 - val_loss: 0.0442 - val_acc: 0.9886\n",
            "Epoch 4/25\n",
            "55000/55000 [==============================] - 14s 261us/step - loss: 0.0280 - acc: 0.9913 - val_loss: 0.0288 - val_acc: 0.9914\n",
            "Epoch 5/25\n",
            "55000/55000 [==============================] - 14s 261us/step - loss: 0.0245 - acc: 0.9926 - val_loss: 0.0356 - val_acc: 0.9892\n",
            "Epoch 6/25\n",
            "55000/55000 [==============================] - 14s 261us/step - loss: 0.0201 - acc: 0.9937 - val_loss: 0.0290 - val_acc: 0.9912\n",
            "Epoch 7/25\n",
            "55000/55000 [==============================] - 14s 261us/step - loss: 0.0165 - acc: 0.9950 - val_loss: 0.0291 - val_acc: 0.9918\n",
            "Epoch 8/25\n",
            "55000/55000 [==============================] - 14s 261us/step - loss: 0.0159 - acc: 0.9947 - val_loss: 0.0375 - val_acc: 0.9906\n",
            "Epoch 9/25\n",
            "55000/55000 [==============================] - 14s 261us/step - loss: 0.0157 - acc: 0.9948 - val_loss: 0.0440 - val_acc: 0.9888\n",
            "Epoch 10/25\n",
            "55000/55000 [==============================] - 14s 262us/step - loss: 0.0120 - acc: 0.9960 - val_loss: 0.0288 - val_acc: 0.9930\n",
            "Epoch 11/25\n",
            "55000/55000 [==============================] - 14s 262us/step - loss: 0.0093 - acc: 0.9970 - val_loss: 0.0302 - val_acc: 0.9932\n",
            "Epoch 12/25\n",
            "55000/55000 [==============================] - 14s 262us/step - loss: 0.0119 - acc: 0.9964 - val_loss: 0.0302 - val_acc: 0.9932\n",
            "Epoch 13/25\n",
            "55000/55000 [==============================] - 14s 262us/step - loss: 0.0100 - acc: 0.9969 - val_loss: 0.0427 - val_acc: 0.9906\n",
            "Epoch 14/25\n",
            "55000/55000 [==============================] - 14s 262us/step - loss: 0.0118 - acc: 0.9959 - val_loss: 0.0290 - val_acc: 0.9942\n",
            "Epoch 15/25\n",
            "55000/55000 [==============================] - 14s 261us/step - loss: 0.0095 - acc: 0.9970 - val_loss: 0.0333 - val_acc: 0.9930\n",
            "Epoch 16/25\n",
            "55000/55000 [==============================] - 14s 261us/step - loss: 0.0084 - acc: 0.9977 - val_loss: 0.0387 - val_acc: 0.9904\n",
            "Epoch 17/25\n",
            "55000/55000 [==============================] - 14s 261us/step - loss: 0.0069 - acc: 0.9979 - val_loss: 0.0325 - val_acc: 0.9936\n",
            "Epoch 18/25\n",
            "55000/55000 [==============================] - 14s 263us/step - loss: 0.0086 - acc: 0.9972 - val_loss: 0.0299 - val_acc: 0.9926\n",
            "Epoch 19/25\n",
            "55000/55000 [==============================] - 14s 262us/step - loss: 0.0081 - acc: 0.9977 - val_loss: 0.0368 - val_acc: 0.9912\n",
            "Epoch 20/25\n",
            "55000/55000 [==============================] - 14s 262us/step - loss: 0.0077 - acc: 0.9978 - val_loss: 0.0284 - val_acc: 0.9934\n",
            "Epoch 21/25\n",
            "55000/55000 [==============================] - 14s 263us/step - loss: 0.0061 - acc: 0.9982 - val_loss: 0.0391 - val_acc: 0.9922\n",
            "Epoch 22/25\n",
            "55000/55000 [==============================] - 14s 261us/step - loss: 0.0061 - acc: 0.9983 - val_loss: 0.0293 - val_acc: 0.9938\n",
            "Epoch 23/25\n",
            "55000/55000 [==============================] - 14s 262us/step - loss: 0.0062 - acc: 0.9981 - val_loss: 0.0283 - val_acc: 0.9946\n",
            "Epoch 24/25\n",
            "55000/55000 [==============================] - 14s 262us/step - loss: 0.0058 - acc: 0.9982 - val_loss: 0.0369 - val_acc: 0.9928\n",
            "Epoch 25/25\n",
            "55000/55000 [==============================] - 14s 263us/step - loss: 0.0061 - acc: 0.9983 - val_loss: 0.0342 - val_acc: 0.9934\n",
            "\n",
            "Accuracy: 99.34%\n",
            "\n",
            "learning rate: 8.8e-04\n",
            "num_filter: 40\n",
            "num_conv_layers: 9\n",
            "\n",
            "Train on 55000 samples, validate on 5000 samples\n",
            "Epoch 1/25\n",
            "55000/55000 [==============================] - 10s 185us/step - loss: 0.8556 - acc: 0.6895 - val_loss: 0.1841 - val_acc: 0.9512\n",
            "Epoch 2/25\n",
            "55000/55000 [==============================] - 10s 176us/step - loss: 0.1778 - acc: 0.9500 - val_loss: 0.1063 - val_acc: 0.9692\n",
            "Epoch 3/25\n",
            "55000/55000 [==============================] - 10s 176us/step - loss: 0.1069 - acc: 0.9689 - val_loss: 0.0733 - val_acc: 0.9792\n",
            "Epoch 4/25\n",
            "55000/55000 [==============================] - 10s 175us/step - loss: 0.0779 - acc: 0.9766 - val_loss: 0.0571 - val_acc: 0.9836\n",
            "Epoch 5/25\n",
            "55000/55000 [==============================] - 10s 176us/step - loss: 0.0603 - acc: 0.9822 - val_loss: 0.0596 - val_acc: 0.9828\n",
            "Epoch 6/25\n",
            "55000/55000 [==============================] - 10s 176us/step - loss: 0.0478 - acc: 0.9853 - val_loss: 0.0549 - val_acc: 0.9844\n",
            "Epoch 7/25\n",
            "55000/55000 [==============================] - 10s 175us/step - loss: 0.0444 - acc: 0.9868 - val_loss: 0.0428 - val_acc: 0.9884\n",
            "Epoch 8/25\n",
            "55000/55000 [==============================] - 10s 176us/step - loss: 0.0374 - acc: 0.9887 - val_loss: 0.0447 - val_acc: 0.9864\n",
            "Epoch 9/25\n",
            "55000/55000 [==============================] - 10s 176us/step - loss: 0.0339 - acc: 0.9894 - val_loss: 0.0504 - val_acc: 0.9874\n",
            "Epoch 10/25\n",
            "55000/55000 [==============================] - 10s 175us/step - loss: 0.0326 - acc: 0.9907 - val_loss: 0.0444 - val_acc: 0.9882\n",
            "Epoch 11/25\n",
            "55000/55000 [==============================] - 10s 176us/step - loss: 0.0299 - acc: 0.9913 - val_loss: 0.0337 - val_acc: 0.9916\n",
            "Epoch 12/25\n",
            "55000/55000 [==============================] - 10s 175us/step - loss: 0.0244 - acc: 0.9926 - val_loss: 0.0507 - val_acc: 0.9854\n",
            "Epoch 13/25\n",
            "55000/55000 [==============================] - 10s 175us/step - loss: 0.0237 - acc: 0.9931 - val_loss: 0.0390 - val_acc: 0.9898\n",
            "Epoch 14/25\n",
            "55000/55000 [==============================] - 10s 175us/step - loss: 0.0233 - acc: 0.9930 - val_loss: 0.0363 - val_acc: 0.9900\n",
            "Epoch 15/25\n",
            "55000/55000 [==============================] - 10s 175us/step - loss: 0.0191 - acc: 0.9940 - val_loss: 0.0322 - val_acc: 0.9920\n",
            "Epoch 16/25\n",
            "55000/55000 [==============================] - 10s 176us/step - loss: 0.0169 - acc: 0.9947 - val_loss: 0.0320 - val_acc: 0.9920\n",
            "Epoch 17/25\n",
            "55000/55000 [==============================] - 10s 176us/step - loss: 0.0172 - acc: 0.9949 - val_loss: 0.0467 - val_acc: 0.9872\n",
            "Epoch 18/25\n",
            "55000/55000 [==============================] - 10s 176us/step - loss: 0.0169 - acc: 0.9948 - val_loss: 0.0320 - val_acc: 0.9916\n",
            "Epoch 19/25\n",
            "55000/55000 [==============================] - 10s 175us/step - loss: 0.0163 - acc: 0.9948 - val_loss: 0.0262 - val_acc: 0.9932\n",
            "Epoch 20/25\n",
            "55000/55000 [==============================] - 10s 176us/step - loss: 0.0157 - acc: 0.9948 - val_loss: 0.0331 - val_acc: 0.9912\n",
            "Epoch 21/25\n",
            "55000/55000 [==============================] - 10s 176us/step - loss: 0.0152 - acc: 0.9955 - val_loss: 0.0288 - val_acc: 0.9924\n",
            "Epoch 22/25\n",
            "55000/55000 [==============================] - 10s 176us/step - loss: 0.0116 - acc: 0.9962 - val_loss: 0.0361 - val_acc: 0.9920\n",
            "Epoch 23/25\n",
            "55000/55000 [==============================] - 10s 176us/step - loss: 0.0123 - acc: 0.9961 - val_loss: 0.0375 - val_acc: 0.9928\n",
            "Epoch 24/25\n",
            "55000/55000 [==============================] - 10s 176us/step - loss: 0.0127 - acc: 0.9962 - val_loss: 0.0327 - val_acc: 0.9932\n",
            "Epoch 25/25\n",
            "55000/55000 [==============================] - 10s 176us/step - loss: 0.0103 - acc: 0.9969 - val_loss: 0.0410 - val_acc: 0.9910\n",
            "\n",
            "Accuracy: 99.10%\n",
            "\n",
            "learning rate: 2.5e-04\n",
            "num_filter: 63\n",
            "num_conv_layers: 10\n",
            "\n",
            "Train on 55000 samples, validate on 5000 samples\n",
            "Epoch 1/25\n",
            "55000/55000 [==============================] - 15s 273us/step - loss: 1.3688 - acc: 0.4854 - val_loss: 0.5553 - val_acc: 0.8206\n",
            "Epoch 2/25\n",
            "55000/55000 [==============================] - 14s 262us/step - loss: 0.4285 - acc: 0.8629 - val_loss: 0.3285 - val_acc: 0.8996\n",
            "Epoch 3/25\n",
            "55000/55000 [==============================] - 14s 263us/step - loss: 0.2785 - acc: 0.9161 - val_loss: 0.2015 - val_acc: 0.9454\n",
            "Epoch 4/25\n",
            "55000/55000 [==============================] - 14s 261us/step - loss: 0.1753 - acc: 0.9477 - val_loss: 0.1351 - val_acc: 0.9616\n",
            "Epoch 5/25\n",
            "55000/55000 [==============================] - 14s 260us/step - loss: 0.1346 - acc: 0.9601 - val_loss: 0.0965 - val_acc: 0.9736\n",
            "Epoch 6/25\n",
            "55000/55000 [==============================] - 14s 261us/step - loss: 0.1031 - acc: 0.9698 - val_loss: 0.0871 - val_acc: 0.9742\n",
            "Epoch 7/25\n",
            "55000/55000 [==============================] - 14s 261us/step - loss: 0.0899 - acc: 0.9737 - val_loss: 0.0855 - val_acc: 0.9754\n",
            "Epoch 8/25\n",
            "55000/55000 [==============================] - 14s 262us/step - loss: 0.0742 - acc: 0.9780 - val_loss: 0.0836 - val_acc: 0.9762\n",
            "Epoch 9/25\n",
            "55000/55000 [==============================] - 14s 262us/step - loss: 0.0672 - acc: 0.9795 - val_loss: 0.0608 - val_acc: 0.9844\n",
            "Epoch 10/25\n",
            "55000/55000 [==============================] - 14s 259us/step - loss: 0.0584 - acc: 0.9823 - val_loss: 0.0687 - val_acc: 0.9796\n",
            "Epoch 11/25\n",
            "55000/55000 [==============================] - 14s 262us/step - loss: 0.0537 - acc: 0.9841 - val_loss: 0.0621 - val_acc: 0.9792\n",
            "Epoch 12/25\n",
            "55000/55000 [==============================] - 14s 261us/step - loss: 0.0455 - acc: 0.9861 - val_loss: 0.0462 - val_acc: 0.9864\n",
            "Epoch 13/25\n",
            "55000/55000 [==============================] - 14s 261us/step - loss: 0.0415 - acc: 0.9873 - val_loss: 0.0505 - val_acc: 0.9846\n",
            "Epoch 14/25\n",
            "55000/55000 [==============================] - 14s 261us/step - loss: 0.0392 - acc: 0.9880 - val_loss: 0.0461 - val_acc: 0.9858\n",
            "Epoch 15/25\n",
            "55000/55000 [==============================] - 14s 261us/step - loss: 0.0340 - acc: 0.9896 - val_loss: 0.0456 - val_acc: 0.9876\n",
            "Epoch 16/25\n",
            "55000/55000 [==============================] - 14s 262us/step - loss: 0.0330 - acc: 0.9895 - val_loss: 0.0410 - val_acc: 0.9878\n",
            "Epoch 17/25\n",
            "55000/55000 [==============================] - 14s 261us/step - loss: 0.0285 - acc: 0.9912 - val_loss: 0.0411 - val_acc: 0.9888\n",
            "Epoch 18/25\n",
            "55000/55000 [==============================] - 14s 261us/step - loss: 0.0271 - acc: 0.9916 - val_loss: 0.0493 - val_acc: 0.9858\n",
            "Epoch 19/25\n",
            "55000/55000 [==============================] - 14s 261us/step - loss: 0.0254 - acc: 0.9918 - val_loss: 0.0371 - val_acc: 0.9904\n",
            "Epoch 20/25\n",
            "55000/55000 [==============================] - 14s 261us/step - loss: 0.0234 - acc: 0.9922 - val_loss: 0.0449 - val_acc: 0.9870\n",
            "Epoch 21/25\n",
            "55000/55000 [==============================] - 14s 261us/step - loss: 0.0202 - acc: 0.9937 - val_loss: 0.0337 - val_acc: 0.9904\n",
            "Epoch 22/25\n",
            "55000/55000 [==============================] - 14s 261us/step - loss: 0.0181 - acc: 0.9941 - val_loss: 0.0418 - val_acc: 0.9890\n",
            "Epoch 23/25\n",
            "55000/55000 [==============================] - 14s 260us/step - loss: 0.0195 - acc: 0.9935 - val_loss: 0.0375 - val_acc: 0.9908\n",
            "Epoch 24/25\n",
            "55000/55000 [==============================] - 14s 260us/step - loss: 0.0197 - acc: 0.9938 - val_loss: 0.0356 - val_acc: 0.9876\n",
            "Epoch 25/25\n",
            "55000/55000 [==============================] - 14s 261us/step - loss: 0.0134 - acc: 0.9957 - val_loss: 0.0519 - val_acc: 0.9878\n",
            "\n",
            "Accuracy: 98.78%\n",
            "\n",
            "learning rate: 6.9e-03\n",
            "num_filter: 42\n",
            "num_conv_layers: 8\n",
            "\n",
            "Train on 55000 samples, validate on 5000 samples\n",
            "Epoch 1/25\n",
            "55000/55000 [==============================] - 10s 183us/step - loss: 0.5507 - acc: 0.8058 - val_loss: 0.1037 - val_acc: 0.9742\n",
            "Epoch 2/25\n",
            "55000/55000 [==============================] - 10s 173us/step - loss: 0.1181 - acc: 0.9693 - val_loss: 0.0630 - val_acc: 0.9850\n",
            "Epoch 3/25\n",
            "55000/55000 [==============================] - 10s 174us/step - loss: 0.0816 - acc: 0.9793 - val_loss: 0.0593 - val_acc: 0.9852\n",
            "Epoch 4/25\n",
            "55000/55000 [==============================] - 10s 173us/step - loss: 0.0743 - acc: 0.9815 - val_loss: 0.0455 - val_acc: 0.9894\n",
            "Epoch 5/25\n",
            "55000/55000 [==============================] - 10s 174us/step - loss: 0.0664 - acc: 0.9843 - val_loss: 0.0655 - val_acc: 0.9836\n",
            "Epoch 6/25\n",
            "55000/55000 [==============================] - 10s 174us/step - loss: 0.0617 - acc: 0.9856 - val_loss: 0.0589 - val_acc: 0.9838\n",
            "Epoch 7/25\n",
            "55000/55000 [==============================] - 10s 173us/step - loss: 0.0766 - acc: 0.9838 - val_loss: 0.0974 - val_acc: 0.9778\n",
            "Epoch 8/25\n",
            "55000/55000 [==============================] - 10s 173us/step - loss: 0.1069 - acc: 0.9760 - val_loss: 0.1243 - val_acc: 0.9732\n",
            "Epoch 9/25\n",
            "55000/55000 [==============================] - 10s 173us/step - loss: 0.1000 - acc: 0.9794 - val_loss: 0.0559 - val_acc: 0.9874\n",
            "Epoch 10/25\n",
            "55000/55000 [==============================] - 10s 173us/step - loss: 0.0622 - acc: 0.9863 - val_loss: 0.0611 - val_acc: 0.9872\n",
            "Epoch 11/25\n",
            "55000/55000 [==============================] - 10s 174us/step - loss: 0.0542 - acc: 0.9878 - val_loss: 0.0323 - val_acc: 0.9928\n",
            "Epoch 12/25\n",
            "55000/55000 [==============================] - 10s 174us/step - loss: 0.0554 - acc: 0.9875 - val_loss: 0.0620 - val_acc: 0.9868\n",
            "Epoch 13/25\n",
            "55000/55000 [==============================] - 10s 173us/step - loss: 0.1352 - acc: 0.9727 - val_loss: 0.1313 - val_acc: 0.9734\n",
            "Epoch 14/25\n",
            "55000/55000 [==============================] - 10s 173us/step - loss: 0.4153 - acc: 0.9118 - val_loss: 1.3023 - val_acc: 0.7066\n",
            "Epoch 15/25\n",
            "55000/55000 [==============================] - 10s 173us/step - loss: 2.2345 - acc: 0.1587 - val_loss: 2.3016 - val_acc: 0.1060\n",
            "Epoch 16/25\n",
            "55000/55000 [==============================] - 9s 173us/step - loss: 2.3017 - acc: 0.1117 - val_loss: 2.3026 - val_acc: 0.1060\n",
            "Epoch 17/25\n",
            "55000/55000 [==============================] - 9s 172us/step - loss: 2.3017 - acc: 0.1128 - val_loss: 2.3025 - val_acc: 0.1060\n",
            "Epoch 18/25\n",
            "55000/55000 [==============================] - 10s 174us/step - loss: 2.3017 - acc: 0.1126 - val_loss: 2.3018 - val_acc: 0.1060\n",
            "Epoch 19/25\n",
            "55000/55000 [==============================] - 10s 173us/step - loss: 2.3016 - acc: 0.1123 - val_loss: 2.3033 - val_acc: 0.1060\n",
            "Epoch 20/25\n",
            "55000/55000 [==============================] - 10s 173us/step - loss: 2.3017 - acc: 0.1123 - val_loss: 2.3019 - val_acc: 0.1060\n",
            "Epoch 21/25\n",
            "55000/55000 [==============================] - 10s 173us/step - loss: 2.3016 - acc: 0.1122 - val_loss: 2.3021 - val_acc: 0.1060\n",
            "Epoch 22/25\n",
            "55000/55000 [==============================] - 10s 175us/step - loss: 2.3016 - acc: 0.1123 - val_loss: 2.3020 - val_acc: 0.1060\n",
            "Epoch 23/25\n",
            "55000/55000 [==============================] - 10s 175us/step - loss: 2.3016 - acc: 0.1129 - val_loss: 2.3019 - val_acc: 0.1060\n",
            "Epoch 24/25\n",
            "55000/55000 [==============================] - 10s 175us/step - loss: 2.3016 - acc: 0.1129 - val_loss: 2.3027 - val_acc: 0.1060\n",
            "Epoch 25/25\n",
            "55000/55000 [==============================] - 10s 175us/step - loss: 2.3016 - acc: 0.1129 - val_loss: 2.3033 - val_acc: 0.1060\n",
            "\n",
            "Accuracy: 10.60%\n",
            "\n",
            "learning rate: 9.1e-04\n",
            "num_filter: 85\n",
            "num_conv_layers: 4\n",
            "\n",
            "Train on 55000 samples, validate on 5000 samples\n",
            "Epoch 1/25\n",
            "55000/55000 [==============================] - 14s 257us/step - loss: 0.2076 - acc: 0.9325 - val_loss: 0.0738 - val_acc: 0.9778\n",
            "Epoch 2/25\n",
            "55000/55000 [==============================] - 14s 247us/step - loss: 0.0508 - acc: 0.9840 - val_loss: 0.0364 - val_acc: 0.9894\n",
            "Epoch 3/25\n",
            "55000/55000 [==============================] - 14s 247us/step - loss: 0.0346 - acc: 0.9892 - val_loss: 0.0403 - val_acc: 0.9860\n",
            "Epoch 4/25\n",
            "55000/55000 [==============================] - 14s 248us/step - loss: 0.0265 - acc: 0.9915 - val_loss: 0.0224 - val_acc: 0.9932\n",
            "Epoch 5/25\n",
            "55000/55000 [==============================] - 14s 247us/step - loss: 0.0204 - acc: 0.9935 - val_loss: 0.0415 - val_acc: 0.9894\n",
            "Epoch 6/25\n",
            "55000/55000 [==============================] - 14s 247us/step - loss: 0.0195 - acc: 0.9933 - val_loss: 0.0349 - val_acc: 0.9912\n",
            "Epoch 7/25\n",
            "55000/55000 [==============================] - 14s 247us/step - loss: 0.0137 - acc: 0.9958 - val_loss: 0.0304 - val_acc: 0.9924\n",
            "Epoch 8/25\n",
            "55000/55000 [==============================] - 14s 248us/step - loss: 0.0125 - acc: 0.9958 - val_loss: 0.0493 - val_acc: 0.9874\n",
            "Epoch 9/25\n",
            "55000/55000 [==============================] - 14s 248us/step - loss: 0.0106 - acc: 0.9964 - val_loss: 0.0279 - val_acc: 0.9932\n",
            "Epoch 10/25\n",
            "55000/55000 [==============================] - 14s 248us/step - loss: 0.0114 - acc: 0.9962 - val_loss: 0.0391 - val_acc: 0.9912\n",
            "Epoch 11/25\n",
            "55000/55000 [==============================] - 14s 247us/step - loss: 0.0102 - acc: 0.9963 - val_loss: 0.0325 - val_acc: 0.9920\n",
            "Epoch 12/25\n",
            "55000/55000 [==============================] - 14s 246us/step - loss: 0.0085 - acc: 0.9969 - val_loss: 0.0349 - val_acc: 0.9916\n",
            "Epoch 13/25\n",
            "55000/55000 [==============================] - 14s 247us/step - loss: 0.0063 - acc: 0.9981 - val_loss: 0.0279 - val_acc: 0.9940\n",
            "Epoch 14/25\n",
            "55000/55000 [==============================] - 14s 247us/step - loss: 0.0065 - acc: 0.9978 - val_loss: 0.0247 - val_acc: 0.9946\n",
            "Epoch 15/25\n",
            "55000/55000 [==============================] - 14s 247us/step - loss: 0.0070 - acc: 0.9978 - val_loss: 0.0317 - val_acc: 0.9942\n",
            "Epoch 16/25\n",
            "55000/55000 [==============================] - 14s 247us/step - loss: 0.0060 - acc: 0.9980 - val_loss: 0.0292 - val_acc: 0.9934\n",
            "Epoch 17/25\n",
            "55000/55000 [==============================] - 14s 247us/step - loss: 0.0050 - acc: 0.9982 - val_loss: 0.0353 - val_acc: 0.9918\n",
            "Epoch 18/25\n",
            "55000/55000 [==============================] - 14s 247us/step - loss: 0.0083 - acc: 0.9975 - val_loss: 0.0373 - val_acc: 0.9898\n",
            "Epoch 19/25\n",
            "55000/55000 [==============================] - 14s 246us/step - loss: 0.0040 - acc: 0.9986 - val_loss: 0.0394 - val_acc: 0.9938\n",
            "Epoch 20/25\n",
            "55000/55000 [==============================] - 14s 247us/step - loss: 0.0056 - acc: 0.9983 - val_loss: 0.0279 - val_acc: 0.9948\n",
            "Epoch 21/25\n",
            "55000/55000 [==============================] - 14s 247us/step - loss: 0.0033 - acc: 0.9991 - val_loss: 0.0305 - val_acc: 0.9948\n",
            "Epoch 22/25\n",
            "55000/55000 [==============================] - 14s 247us/step - loss: 0.0041 - acc: 0.9989 - val_loss: 0.0355 - val_acc: 0.9930\n",
            "Epoch 23/25\n",
            "55000/55000 [==============================] - 14s 247us/step - loss: 0.0050 - acc: 0.9984 - val_loss: 0.0407 - val_acc: 0.9924\n",
            "Epoch 24/25\n",
            "55000/55000 [==============================] - 14s 247us/step - loss: 0.0031 - acc: 0.9990 - val_loss: 0.0331 - val_acc: 0.9934\n",
            "Epoch 25/25\n",
            "55000/55000 [==============================] - 14s 247us/step - loss: 0.0057 - acc: 0.9982 - val_loss: 0.0251 - val_acc: 0.9950\n",
            "\n",
            "Accuracy: 99.50%\n",
            "\n",
            "learning rate: 6.1e-04\n",
            "num_filter: 71\n",
            "num_conv_layers: 8\n",
            "\n",
            "Train on 55000 samples, validate on 5000 samples\n",
            "Epoch 1/25\n",
            "55000/55000 [==============================] - 16s 287us/step - loss: 0.5558 - acc: 0.8128 - val_loss: 0.1113 - val_acc: 0.9646\n",
            "Epoch 2/25\n",
            "55000/55000 [==============================] - 15s 275us/step - loss: 0.1029 - acc: 0.9689 - val_loss: 0.0641 - val_acc: 0.9798\n",
            "Epoch 3/25\n",
            "55000/55000 [==============================] - 15s 275us/step - loss: 0.0706 - acc: 0.9784 - val_loss: 0.0505 - val_acc: 0.9836\n",
            "Epoch 4/25\n",
            "55000/55000 [==============================] - 15s 275us/step - loss: 0.0539 - acc: 0.9832 - val_loss: 0.0663 - val_acc: 0.9790\n",
            "Epoch 5/25\n",
            "55000/55000 [==============================] - 15s 276us/step - loss: 0.0438 - acc: 0.9867 - val_loss: 0.0377 - val_acc: 0.9908\n",
            "Epoch 6/25\n",
            "55000/55000 [==============================] - 15s 276us/step - loss: 0.0377 - acc: 0.9882 - val_loss: 0.0418 - val_acc: 0.9880\n",
            "Epoch 7/25\n",
            "55000/55000 [==============================] - 15s 275us/step - loss: 0.0312 - acc: 0.9903 - val_loss: 0.0324 - val_acc: 0.9904\n",
            "Epoch 8/25\n",
            "55000/55000 [==============================] - 15s 275us/step - loss: 0.0259 - acc: 0.9918 - val_loss: 0.0510 - val_acc: 0.9838\n",
            "Epoch 9/25\n",
            "55000/55000 [==============================] - 15s 275us/step - loss: 0.0239 - acc: 0.9923 - val_loss: 0.0377 - val_acc: 0.9874\n",
            "Epoch 10/25\n",
            "55000/55000 [==============================] - 15s 275us/step - loss: 0.0220 - acc: 0.9931 - val_loss: 0.0477 - val_acc: 0.9876\n",
            "Epoch 11/25\n",
            "55000/55000 [==============================] - 15s 275us/step - loss: 0.0202 - acc: 0.9937 - val_loss: 0.0250 - val_acc: 0.9932\n",
            "Epoch 12/25\n",
            "55000/55000 [==============================] - 15s 275us/step - loss: 0.0187 - acc: 0.9935 - val_loss: 0.0342 - val_acc: 0.9920\n",
            "Epoch 13/25\n",
            "55000/55000 [==============================] - 15s 276us/step - loss: 0.0147 - acc: 0.9955 - val_loss: 0.0359 - val_acc: 0.9906\n",
            "Epoch 14/25\n",
            "55000/55000 [==============================] - 15s 276us/step - loss: 0.0161 - acc: 0.9953 - val_loss: 0.0287 - val_acc: 0.9936\n",
            "Epoch 15/25\n",
            "55000/55000 [==============================] - 15s 275us/step - loss: 0.0134 - acc: 0.9958 - val_loss: 0.0311 - val_acc: 0.9930\n",
            "Epoch 16/25\n",
            "55000/55000 [==============================] - 15s 276us/step - loss: 0.0132 - acc: 0.9956 - val_loss: 0.0279 - val_acc: 0.9920\n",
            "Epoch 17/25\n",
            "55000/55000 [==============================] - 15s 276us/step - loss: 0.0140 - acc: 0.9953 - val_loss: 0.0471 - val_acc: 0.9894\n",
            "Epoch 18/25\n",
            "55000/55000 [==============================] - 15s 276us/step - loss: 0.0121 - acc: 0.9965 - val_loss: 0.0347 - val_acc: 0.9908\n",
            "Epoch 19/25\n",
            "55000/55000 [==============================] - 15s 276us/step - loss: 0.0105 - acc: 0.9966 - val_loss: 0.0334 - val_acc: 0.9918\n",
            "Epoch 20/25\n",
            "55000/55000 [==============================] - 15s 275us/step - loss: 0.0087 - acc: 0.9975 - val_loss: 0.0309 - val_acc: 0.9926\n",
            "Epoch 21/25\n",
            "55000/55000 [==============================] - 15s 275us/step - loss: 0.0094 - acc: 0.9973 - val_loss: 0.0262 - val_acc: 0.9950\n",
            "Epoch 22/25\n",
            "55000/55000 [==============================] - 15s 275us/step - loss: 0.0077 - acc: 0.9974 - val_loss: 0.0367 - val_acc: 0.9926\n",
            "Epoch 23/25\n",
            "55000/55000 [==============================] - 15s 275us/step - loss: 0.0089 - acc: 0.9974 - val_loss: 0.0376 - val_acc: 0.9908\n",
            "Epoch 24/25\n",
            "55000/55000 [==============================] - 15s 275us/step - loss: 0.0085 - acc: 0.9974 - val_loss: 0.0265 - val_acc: 0.9960\n",
            "Epoch 25/25\n",
            "55000/55000 [==============================] - 15s 275us/step - loss: 0.0068 - acc: 0.9980 - val_loss: 0.0285 - val_acc: 0.9934\n",
            "\n",
            "Accuracy: 99.34%\n",
            "\n",
            "learning rate: 2.4e-04\n",
            "num_filter: 69\n",
            "num_conv_layers: 6\n",
            "\n",
            "Train on 55000 samples, validate on 5000 samples\n",
            "Epoch 1/25\n",
            "55000/55000 [==============================] - 14s 262us/step - loss: 0.4805 - acc: 0.8463 - val_loss: 0.1188 - val_acc: 0.9652\n",
            "Epoch 2/25\n",
            "55000/55000 [==============================] - 14s 251us/step - loss: 0.1138 - acc: 0.9654 - val_loss: 0.0928 - val_acc: 0.9720\n",
            "Epoch 3/25\n",
            "55000/55000 [==============================] - 14s 251us/step - loss: 0.0764 - acc: 0.9766 - val_loss: 0.0500 - val_acc: 0.9860\n",
            "Epoch 4/25\n",
            "55000/55000 [==============================] - 14s 250us/step - loss: 0.0607 - acc: 0.9814 - val_loss: 0.0524 - val_acc: 0.9846\n",
            "Epoch 5/25\n",
            "55000/55000 [==============================] - 14s 251us/step - loss: 0.0478 - acc: 0.9847 - val_loss: 0.0537 - val_acc: 0.9846\n",
            "Epoch 6/25\n",
            "55000/55000 [==============================] - 14s 252us/step - loss: 0.0389 - acc: 0.9878 - val_loss: 0.0411 - val_acc: 0.9886\n",
            "Epoch 7/25\n",
            "55000/55000 [==============================] - 14s 250us/step - loss: 0.0342 - acc: 0.9892 - val_loss: 0.0535 - val_acc: 0.9850\n",
            "Epoch 8/25\n",
            "55000/55000 [==============================] - 14s 251us/step - loss: 0.0301 - acc: 0.9903 - val_loss: 0.0344 - val_acc: 0.9916\n",
            "Epoch 9/25\n",
            "55000/55000 [==============================] - 14s 251us/step - loss: 0.0261 - acc: 0.9917 - val_loss: 0.0439 - val_acc: 0.9876\n",
            "Epoch 10/25\n",
            "55000/55000 [==============================] - 14s 251us/step - loss: 0.0245 - acc: 0.9923 - val_loss: 0.0365 - val_acc: 0.9898\n",
            "Epoch 11/25\n",
            "55000/55000 [==============================] - 14s 251us/step - loss: 0.0195 - acc: 0.9934 - val_loss: 0.0348 - val_acc: 0.9914\n",
            "Epoch 12/25\n",
            "55000/55000 [==============================] - 14s 251us/step - loss: 0.0177 - acc: 0.9938 - val_loss: 0.0280 - val_acc: 0.9926\n",
            "Epoch 13/25\n",
            "55000/55000 [==============================] - 14s 250us/step - loss: 0.0161 - acc: 0.9944 - val_loss: 0.0320 - val_acc: 0.9922\n",
            "Epoch 14/25\n",
            "55000/55000 [==============================] - 14s 251us/step - loss: 0.0139 - acc: 0.9954 - val_loss: 0.0366 - val_acc: 0.9902\n",
            "Epoch 15/25\n",
            "55000/55000 [==============================] - 14s 251us/step - loss: 0.0131 - acc: 0.9956 - val_loss: 0.0374 - val_acc: 0.9902\n",
            "Epoch 16/25\n",
            "55000/55000 [==============================] - 14s 251us/step - loss: 0.0119 - acc: 0.9961 - val_loss: 0.0310 - val_acc: 0.9916\n",
            "Epoch 17/25\n",
            "55000/55000 [==============================] - 14s 251us/step - loss: 0.0105 - acc: 0.9967 - val_loss: 0.0439 - val_acc: 0.9894\n",
            "Epoch 18/25\n",
            "55000/55000 [==============================] - 14s 251us/step - loss: 0.0098 - acc: 0.9966 - val_loss: 0.0379 - val_acc: 0.9914\n",
            "Epoch 19/25\n",
            "55000/55000 [==============================] - 14s 251us/step - loss: 0.0087 - acc: 0.9969 - val_loss: 0.0427 - val_acc: 0.9898\n",
            "Epoch 20/25\n",
            "55000/55000 [==============================] - 14s 251us/step - loss: 0.0096 - acc: 0.9966 - val_loss: 0.0272 - val_acc: 0.9934\n",
            "Epoch 21/25\n",
            "55000/55000 [==============================] - 14s 251us/step - loss: 0.0073 - acc: 0.9975 - val_loss: 0.0324 - val_acc: 0.9920\n",
            "Epoch 22/25\n",
            "55000/55000 [==============================] - 14s 251us/step - loss: 0.0078 - acc: 0.9973 - val_loss: 0.0332 - val_acc: 0.9932\n",
            "Epoch 23/25\n",
            "55000/55000 [==============================] - 14s 251us/step - loss: 0.0062 - acc: 0.9979 - val_loss: 0.0630 - val_acc: 0.9832\n",
            "Epoch 24/25\n",
            "55000/55000 [==============================] - 14s 251us/step - loss: 0.0070 - acc: 0.9976 - val_loss: 0.0313 - val_acc: 0.9920\n",
            "Epoch 25/25\n",
            "55000/55000 [==============================] - 14s 251us/step - loss: 0.0065 - acc: 0.9979 - val_loss: 0.0325 - val_acc: 0.9932\n",
            "\n",
            "Accuracy: 99.32%\n",
            "\n",
            "learning rate: 9.9e-04\n",
            "num_filter: 49\n",
            "num_conv_layers: 3\n",
            "\n",
            "Train on 55000 samples, validate on 5000 samples\n",
            "Epoch 1/25\n",
            "55000/55000 [==============================] - 9s 165us/step - loss: 0.1996 - acc: 0.9370 - val_loss: 0.0566 - val_acc: 0.9824\n",
            "Epoch 2/25\n",
            "55000/55000 [==============================] - 9s 158us/step - loss: 0.0473 - acc: 0.9852 - val_loss: 0.0382 - val_acc: 0.9888\n",
            "Epoch 3/25\n",
            "55000/55000 [==============================] - 9s 158us/step - loss: 0.0321 - acc: 0.9895 - val_loss: 0.0330 - val_acc: 0.9910\n",
            "Epoch 4/25\n",
            "55000/55000 [==============================] - 9s 158us/step - loss: 0.0240 - acc: 0.9921 - val_loss: 0.0374 - val_acc: 0.9890\n",
            "Epoch 5/25\n",
            "55000/55000 [==============================] - 9s 158us/step - loss: 0.0201 - acc: 0.9935 - val_loss: 0.0328 - val_acc: 0.9918\n",
            "Epoch 6/25\n",
            "55000/55000 [==============================] - 9s 158us/step - loss: 0.0159 - acc: 0.9948 - val_loss: 0.0421 - val_acc: 0.9890\n",
            "Epoch 7/25\n",
            "55000/55000 [==============================] - 9s 158us/step - loss: 0.0130 - acc: 0.9955 - val_loss: 0.0454 - val_acc: 0.9890\n",
            "Epoch 8/25\n",
            "55000/55000 [==============================] - 9s 159us/step - loss: 0.0120 - acc: 0.9959 - val_loss: 0.0402 - val_acc: 0.9912\n",
            "Epoch 9/25\n",
            "55000/55000 [==============================] - 9s 158us/step - loss: 0.0087 - acc: 0.9970 - val_loss: 0.0381 - val_acc: 0.9900\n",
            "Epoch 10/25\n",
            "55000/55000 [==============================] - 9s 158us/step - loss: 0.0089 - acc: 0.9970 - val_loss: 0.0532 - val_acc: 0.9890\n",
            "Epoch 11/25\n",
            "55000/55000 [==============================] - 9s 158us/step - loss: 0.0079 - acc: 0.9972 - val_loss: 0.0384 - val_acc: 0.9920\n",
            "Epoch 12/25\n",
            "55000/55000 [==============================] - 9s 158us/step - loss: 0.0079 - acc: 0.9974 - val_loss: 0.0394 - val_acc: 0.9918\n",
            "Epoch 13/25\n",
            "55000/55000 [==============================] - 9s 158us/step - loss: 0.0044 - acc: 0.9986 - val_loss: 0.0539 - val_acc: 0.9884\n",
            "Epoch 14/25\n",
            "55000/55000 [==============================] - 9s 158us/step - loss: 0.0069 - acc: 0.9977 - val_loss: 0.0424 - val_acc: 0.9920\n",
            "Epoch 15/25\n",
            "55000/55000 [==============================] - 9s 158us/step - loss: 0.0050 - acc: 0.9982 - val_loss: 0.0422 - val_acc: 0.9920\n",
            "Epoch 16/25\n",
            "55000/55000 [==============================] - 9s 158us/step - loss: 0.0057 - acc: 0.9980 - val_loss: 0.0367 - val_acc: 0.9924\n",
            "Epoch 17/25\n",
            "55000/55000 [==============================] - 9s 158us/step - loss: 0.0021 - acc: 0.9995 - val_loss: 0.0339 - val_acc: 0.9934\n",
            "Epoch 18/25\n",
            "55000/55000 [==============================] - 9s 158us/step - loss: 0.0060 - acc: 0.9982 - val_loss: 0.0328 - val_acc: 0.9928\n",
            "Epoch 19/25\n",
            "55000/55000 [==============================] - 9s 158us/step - loss: 0.0034 - acc: 0.9989 - val_loss: 0.0725 - val_acc: 0.9876\n",
            "Epoch 20/25\n",
            "55000/55000 [==============================] - 9s 158us/step - loss: 0.0068 - acc: 0.9980 - val_loss: 0.0332 - val_acc: 0.9938\n",
            "Epoch 21/25\n",
            "55000/55000 [==============================] - 9s 159us/step - loss: 0.0028 - acc: 0.9990 - val_loss: 0.0392 - val_acc: 0.9920\n",
            "Epoch 22/25\n",
            "55000/55000 [==============================] - 9s 158us/step - loss: 0.0032 - acc: 0.9990 - val_loss: 0.0316 - val_acc: 0.9940\n",
            "Epoch 23/25\n",
            "55000/55000 [==============================] - 9s 158us/step - loss: 0.0054 - acc: 0.9982 - val_loss: 0.0393 - val_acc: 0.9920\n",
            "Epoch 24/25\n",
            "55000/55000 [==============================] - 9s 158us/step - loss: 0.0040 - acc: 0.9986 - val_loss: 0.0361 - val_acc: 0.9936\n",
            "Epoch 25/25\n",
            "55000/55000 [==============================] - 9s 158us/step - loss: 0.0011 - acc: 0.9997 - val_loss: 0.0424 - val_acc: 0.9912\n",
            "\n",
            "Accuracy: 99.12%\n",
            "\n",
            "learning rate: 4.3e-03\n",
            "num_filter: 96\n",
            "num_conv_layers: 6\n",
            "\n",
            "Train on 55000 samples, validate on 5000 samples\n",
            "Epoch 1/25\n",
            "55000/55000 [==============================] - 16s 297us/step - loss: 2.3020 - acc: 0.1117 - val_loss: 2.3018 - val_acc: 0.1060\n",
            "Epoch 2/25\n",
            "55000/55000 [==============================] - 16s 286us/step - loss: 2.3015 - acc: 0.1129 - val_loss: 2.3018 - val_acc: 0.1060\n",
            "Epoch 3/25\n",
            "55000/55000 [==============================] - 16s 286us/step - loss: 2.3015 - acc: 0.1129 - val_loss: 2.3019 - val_acc: 0.1060\n",
            "Epoch 4/25\n",
            "55000/55000 [==============================] - 16s 286us/step - loss: 2.3014 - acc: 0.1129 - val_loss: 2.3019 - val_acc: 0.1060\n",
            "Epoch 5/25\n",
            "55000/55000 [==============================] - 16s 286us/step - loss: 2.3015 - acc: 0.1129 - val_loss: 2.3026 - val_acc: 0.1060\n",
            "Epoch 6/25\n",
            "55000/55000 [==============================] - 16s 286us/step - loss: 2.3015 - acc: 0.1123 - val_loss: 2.3022 - val_acc: 0.1060\n",
            "Epoch 7/25\n",
            "55000/55000 [==============================] - 16s 285us/step - loss: 2.3015 - acc: 0.1129 - val_loss: 2.3023 - val_acc: 0.1060\n",
            "Epoch 8/25\n",
            "55000/55000 [==============================] - 16s 286us/step - loss: 2.3014 - acc: 0.1129 - val_loss: 2.3021 - val_acc: 0.1060\n",
            "Epoch 9/25\n",
            "55000/55000 [==============================] - 16s 285us/step - loss: 2.3014 - acc: 0.1129 - val_loss: 2.3021 - val_acc: 0.1060\n",
            "Epoch 10/25\n",
            "55000/55000 [==============================] - 16s 286us/step - loss: 2.3015 - acc: 0.1129 - val_loss: 2.3018 - val_acc: 0.1060\n",
            "Epoch 11/25\n",
            "55000/55000 [==============================] - 16s 286us/step - loss: 2.3015 - acc: 0.1129 - val_loss: 2.3023 - val_acc: 0.1060\n",
            "Epoch 12/25\n",
            "55000/55000 [==============================] - 16s 286us/step - loss: 2.3015 - acc: 0.1125 - val_loss: 2.3021 - val_acc: 0.1060\n",
            "Epoch 13/25\n",
            "55000/55000 [==============================] - 16s 287us/step - loss: 2.3014 - acc: 0.1129 - val_loss: 2.3020 - val_acc: 0.1060\n",
            "Epoch 14/25\n",
            "55000/55000 [==============================] - 16s 286us/step - loss: 2.3015 - acc: 0.1127 - val_loss: 2.3020 - val_acc: 0.1060\n",
            "Epoch 15/25\n",
            "55000/55000 [==============================] - 16s 286us/step - loss: 2.3015 - acc: 0.1129 - val_loss: 2.3023 - val_acc: 0.1060\n",
            "Epoch 16/25\n",
            "55000/55000 [==============================] - 16s 286us/step - loss: 2.3014 - acc: 0.1129 - val_loss: 2.3025 - val_acc: 0.1060\n",
            "Epoch 17/25\n",
            "55000/55000 [==============================] - 16s 286us/step - loss: 2.3014 - acc: 0.1126 - val_loss: 2.3018 - val_acc: 0.1060\n",
            "Epoch 18/25\n",
            "55000/55000 [==============================] - 16s 285us/step - loss: 2.3014 - acc: 0.1129 - val_loss: 2.3026 - val_acc: 0.1060\n",
            "Epoch 19/25\n",
            "55000/55000 [==============================] - 16s 286us/step - loss: 2.3013 - acc: 0.1129 - val_loss: 2.3022 - val_acc: 0.1060\n",
            "Epoch 20/25\n",
            "55000/55000 [==============================] - 16s 286us/step - loss: 2.3014 - acc: 0.1129 - val_loss: 2.3020 - val_acc: 0.1060\n",
            "Epoch 21/25\n",
            "55000/55000 [==============================] - 16s 287us/step - loss: 2.3015 - acc: 0.1129 - val_loss: 2.3023 - val_acc: 0.1060\n",
            "Epoch 22/25\n",
            "55000/55000 [==============================] - 16s 285us/step - loss: 2.3014 - acc: 0.1129 - val_loss: 2.3017 - val_acc: 0.1060\n",
            "Epoch 23/25\n",
            "55000/55000 [==============================] - 16s 282us/step - loss: 2.3015 - acc: 0.1129 - val_loss: 2.3020 - val_acc: 0.1060\n",
            "Epoch 24/25\n",
            "55000/55000 [==============================] - 16s 282us/step - loss: 2.3015 - acc: 0.1129 - val_loss: 2.3021 - val_acc: 0.1060\n",
            "Epoch 25/25\n",
            "55000/55000 [==============================] - 16s 282us/step - loss: 2.3014 - acc: 0.1124 - val_loss: 2.3025 - val_acc: 0.1060\n",
            "\n",
            "Accuracy: 10.60%\n",
            "\n",
            "learning rate: 3.5e-03\n",
            "num_filter: 48\n",
            "num_conv_layers: 6\n",
            "\n",
            "Train on 55000 samples, validate on 5000 samples\n",
            "Epoch 1/25\n",
            "55000/55000 [==============================] - 11s 197us/step - loss: 0.3074 - acc: 0.8972 - val_loss: 0.0493 - val_acc: 0.9860\n",
            "Epoch 2/25\n",
            "55000/55000 [==============================] - 10s 188us/step - loss: 0.0582 - acc: 0.9825 - val_loss: 0.0386 - val_acc: 0.9888\n",
            "Epoch 3/25\n",
            "55000/55000 [==============================] - 10s 187us/step - loss: 0.0454 - acc: 0.9870 - val_loss: 0.0324 - val_acc: 0.9920\n",
            "Epoch 4/25\n",
            "55000/55000 [==============================] - 10s 189us/step - loss: 0.0383 - acc: 0.9885 - val_loss: 0.0330 - val_acc: 0.9908\n",
            "Epoch 5/25\n",
            "55000/55000 [==============================] - 10s 189us/step - loss: 0.0306 - acc: 0.9906 - val_loss: 0.0373 - val_acc: 0.9904\n",
            "Epoch 6/25\n",
            "55000/55000 [==============================] - 10s 188us/step - loss: 0.0305 - acc: 0.9914 - val_loss: 0.0326 - val_acc: 0.9918\n",
            "Epoch 7/25\n",
            "55000/55000 [==============================] - 10s 189us/step - loss: 0.0258 - acc: 0.9923 - val_loss: 0.0322 - val_acc: 0.9912\n",
            "Epoch 8/25\n",
            "55000/55000 [==============================] - 10s 188us/step - loss: 0.0255 - acc: 0.9928 - val_loss: 0.0347 - val_acc: 0.9916\n",
            "Epoch 9/25\n",
            "55000/55000 [==============================] - 10s 189us/step - loss: 0.0260 - acc: 0.9934 - val_loss: 0.0330 - val_acc: 0.9918\n",
            "Epoch 10/25\n",
            "55000/55000 [==============================] - 10s 188us/step - loss: 0.0276 - acc: 0.9922 - val_loss: 0.0316 - val_acc: 0.9916\n",
            "Epoch 11/25\n",
            "55000/55000 [==============================] - 10s 189us/step - loss: 0.0236 - acc: 0.9933 - val_loss: 0.0532 - val_acc: 0.9884\n",
            "Epoch 12/25\n",
            "55000/55000 [==============================] - 10s 189us/step - loss: 0.0231 - acc: 0.9936 - val_loss: 0.0312 - val_acc: 0.9908\n",
            "Epoch 13/25\n",
            "55000/55000 [==============================] - 10s 190us/step - loss: 0.0209 - acc: 0.9948 - val_loss: 0.0405 - val_acc: 0.9918\n",
            "Epoch 14/25\n",
            "55000/55000 [==============================] - 10s 190us/step - loss: 0.0238 - acc: 0.9943 - val_loss: 0.0482 - val_acc: 0.9904\n",
            "Epoch 15/25\n",
            "55000/55000 [==============================] - 10s 189us/step - loss: 0.0169 - acc: 0.9956 - val_loss: 0.0466 - val_acc: 0.9914\n",
            "Epoch 16/25\n",
            "55000/55000 [==============================] - 10s 189us/step - loss: 0.0228 - acc: 0.9945 - val_loss: 0.0337 - val_acc: 0.9914\n",
            "Epoch 17/25\n",
            "55000/55000 [==============================] - 10s 190us/step - loss: 0.0231 - acc: 0.9943 - val_loss: 0.0488 - val_acc: 0.9902\n",
            "Epoch 18/25\n",
            "55000/55000 [==============================] - 10s 189us/step - loss: 0.0239 - acc: 0.9940 - val_loss: 0.0357 - val_acc: 0.9920\n",
            "Epoch 19/25\n",
            "55000/55000 [==============================] - 10s 189us/step - loss: 0.0115 - acc: 0.9967 - val_loss: 0.0381 - val_acc: 0.9924\n",
            "Epoch 20/25\n",
            "55000/55000 [==============================] - 10s 190us/step - loss: 0.0197 - acc: 0.9956 - val_loss: 0.0498 - val_acc: 0.9892\n",
            "Epoch 21/25\n",
            "55000/55000 [==============================] - 10s 190us/step - loss: 0.0207 - acc: 0.9947 - val_loss: 0.0409 - val_acc: 0.9912\n",
            "Epoch 22/25\n",
            "55000/55000 [==============================] - 10s 189us/step - loss: 0.0168 - acc: 0.9960 - val_loss: 0.0531 - val_acc: 0.9908\n",
            "Epoch 23/25\n",
            "55000/55000 [==============================] - 10s 189us/step - loss: 0.0161 - acc: 0.9964 - val_loss: 0.0559 - val_acc: 0.9890\n",
            "Epoch 24/25\n",
            "55000/55000 [==============================] - 10s 189us/step - loss: 0.0219 - acc: 0.9945 - val_loss: 0.0542 - val_acc: 0.9898\n",
            "Epoch 25/25\n",
            "55000/55000 [==============================] - 10s 189us/step - loss: 0.0180 - acc: 0.9958 - val_loss: 0.0565 - val_acc: 0.9888\n",
            "\n",
            "Accuracy: 98.88%\n",
            "\n",
            "Test loss: 0.025773932941825298\n",
            "Test accuracy: 0.994\n"
          ],
          "name": "stdout"
        },
        {
          "output_type": "execute_result",
          "data": {
            "text/plain": [
              "[(-0.995, [0.000910421894763718, 85, 4]),\n",
              " (-0.9934, [0.0006148084890887538, 71, 8]),\n",
              " (-0.9934, [0.0014950828049244893, 84, 5]),\n",
              " (-0.9932, [0.0002351105898625325, 69, 6]),\n",
              " (-0.9912, [0.0009865284410502128, 49, 3]),\n",
              " (-0.991, [0.0008813743757774097, 40, 9]),\n",
              " (-0.9888, [0.0034542489422488385, 48, 6]),\n",
              " (-0.9878, [0.00024609881921158755, 63, 10]),\n",
              " (-0.9864, [0.0001, 64, 1]),\n",
              " (-0.106, [0.00430027531675362, 96, 6]),\n",
              " (-0.106, [0.0069282073295663625, 42, 8])]"
            ]
          },
          "metadata": {
            "tags": []
          },
          "execution_count": 19
        },
        {
          "output_type": "display_data",
          "data": {
            "image/png": "[encoded data removed]",
            "text/plain": [
              "<Figure size 576x396 with 1 Axes>"
            ]
          },
          "metadata": {
            "tags": []
          }
        }
      ]
    },
    {
      "metadata": {
        "id": "tNSnYZdBqf0W",
        "colab_type": "text"
      },
      "cell_type": "markdown",
      "source": [
        ""
      ]
    },
    {
      "metadata": {
        "id": "2XngPPyveprQ",
        "colab_type": "code",
        "colab": {}
      },
      "cell_type": "code",
      "source": [
        ""
      ],
      "execution_count": 0,
      "outputs": []
    }
  ]
}